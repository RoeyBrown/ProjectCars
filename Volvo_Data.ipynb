{
 "cells": [
  {
   "cell_type": "markdown",
   "id": "2fe5dd52",
   "metadata": {},
   "source": [
    "### Part 1 - Web scraping\n",
    "#### Team Volvo\n",
    "#### Nadav Yedid - 208271007\n",
    "#### Roee Brown - 208993006"
   ]
  },
  {
   "cell_type": "code",
   "execution_count": 65,
   "id": "18a0be9a",
   "metadata": {},
   "outputs": [],
   "source": [
    "import csv\n",
    "from datetime import datetime\n",
    "from bs4 import BeautifulSoup\n",
    "import requests"
   ]
  },
  {
   "cell_type": "code",
   "execution_count": 66,
   "id": "9342fb23",
   "metadata": {},
   "outputs": [],
   "source": [
    "car_dict_template = {\n",
    "    \"manufactor\": \"\",\n",
    "    \"year\": 0,\n",
    "    \"model\": \"\",\n",
    "    \"hand\": 0,\n",
    "    \"gear\": \"\",\n",
    "    \"engine_capacity\": 0,\n",
    "    \"engine_type\": \"\",\n",
    "    \"prev_ownership\": \"\",\n",
    "    \"curr_ownership\": \"\",\n",
    "    \"area\": \"\",\n",
    "    \"city\": \"\",\n",
    "    \"price\": 0.0,\n",
    "    \"pic_num\": 0,\n",
    "    \"cre_date\": datetime.now(),\n",
    "    \"repub_date\": datetime.now(),\n",
    "    \"description\": \"\",\n",
    "    \"color\": \"\",\n",
    "    \"km\": 0,\n",
    "    \"test_date\": \"\",\n",
    "    \"test\": 0,\n",
    "    \"supply_score\": 0,\n",
    "}"
   ]
  },
  {
   "cell_type": "code",
   "execution_count": 67,
   "id": "862a0b5f",
   "metadata": {},
   "outputs": [],
   "source": [
    "def get_html(url):\n",
    "    raw_html = requests.get(url)\n",
    "    return BeautifulSoup(raw_html.text, \"html.parser\")"
   ]
  },
  {
   "cell_type": "code",
   "execution_count": 68,
   "id": "70e12162",
   "metadata": {},
   "outputs": [],
   "source": [
    " def get_links_and_filter(html, filter):\n",
    "    links = []\n",
    "    product_list = html.find_all(\"div\", {\"class\": \"product-list d-flex\"})[0]\n",
    "    for link in product_list.find_all(\"a\"):\n",
    "        if filter not in link.get(\"href\"):\n",
    "            continue\n",
    "        links.append(link.get(\"href\"))\n",
    "    return links"
   ]
  },
  {
   "cell_type": "code",
   "execution_count": 69,
   "id": "16e0a97c",
   "metadata": {},
   "outputs": [],
   "source": [
    "def map_table(index):\n",
    "    if index == \"שנה\":\n",
    "        return \"year\", int\n",
    "    elif index == \"יד\":\n",
    "        return \"hand\", int\n",
    "    elif index == \"ת. הילוכים\":\n",
    "        return \"gear\", str\n",
    "    elif index == \"נפח\":\n",
    "        return \"engine_capacity\", int\n",
    "    elif index == \"סוג מנוע\":\n",
    "        return \"engine_type\", str\n",
    "    elif index == 'ק\"מ':\n",
    "        return \"km\", int\n",
    "    elif index == \"טסט עד\":\n",
    "        return \"test_date\", str\n",
    "    elif index == \"צבע\":\n",
    "        return \"color\", str\n",
    "    elif index == \"בעלות קודמת\":\n",
    "        return \"prev_ownership\", str\n",
    "    elif index == \"בעלות נוכחית\":\n",
    "        return \"curr_ownership\", str\n",
    "    elif index == \"אזור\":\n",
    "        return \"area\", str\n",
    "    elif index == \"עיר\":\n",
    "        return \"city\", str\n",
    "    else:\n",
    "        return \"error\", str\n"
   ]
  },
  {
   "cell_type": "code",
   "execution_count": 70,
   "id": "fd0295fe",
   "metadata": {},
   "outputs": [],
   "source": [
    "def get_description(bs_data: BeautifulSoup):\n",
    "    data = bs_data.find_all(\"p\", {\"class\": \"text-word-break\"})\n",
    "    if not data or len(data) == 0:\n",
    "        return \"No description\"\n",
    "    return data[0].get_text().strip()\n"
   ]
  },
  {
   "cell_type": "code",
   "execution_count": 71,
   "id": "8f6b2246",
   "metadata": {},
   "outputs": [],
   "source": [
    "def get_manufactor(bs_data: BeautifulSoup):\n",
    "    breadcrumbs = bs_data.find_all(\"ol\")[0]\n",
    "    return breadcrumbs.find_all(\"li\")[2].get_text().strip()\n",
    "\n"
   ]
  },
  {
   "cell_type": "code",
   "execution_count": 72,
   "id": "a1578022",
   "metadata": {},
   "outputs": [],
   "source": [
    "def get_model(bs_data: BeautifulSoup):\n",
    "    breadcrumbs = bs_data.find_all(\"ol\")[0]\n",
    "    return breadcrumbs.find_all(\"li\")[3].get_text().strip()"
   ]
  },
  {
   "cell_type": "code",
   "execution_count": 73,
   "id": "261e62b4",
   "metadata": {},
   "outputs": [],
   "source": [
    "def get_price(bs_data: BeautifulSoup):\n",
    "    data = bs_data.find_all(\"div\", {\"class\": \"d-flex justify-content-between\"})[0]\n",
    "    if len(data.find_all(\"h2\")) < 2:\n",
    "        return float(0)\n",
    "    return float(\n",
    "        data.find_all(\"h2\")[1].get_text().strip().replace(\"₪\", \"\").replace(\",\", \"\"))"
   ]
  },
  {
   "cell_type": "code",
   "execution_count": 74,
   "id": "7162e2c2",
   "metadata": {},
   "outputs": [],
   "source": [
    "def get_pic_num(bs_data: BeautifulSoup):\n",
    "    data = bs_data.find_all(\n",
    "        \"div\", {\"class\": \"col-12 d-flex mt-3 justify-content-center flex-wrap\"}\n",
    "    )\n",
    "    if not data or len(data) == 0:\n",
    "        return 0\n",
    "    return len(data[0].find_all(\"img\"))"
   ]
  },
  {
   "cell_type": "code",
   "execution_count": 75,
   "id": "160d2584",
   "metadata": {},
   "outputs": [],
   "source": [
    "def get_days_2_test(test_date):\n",
    "    datetime_object = datetime.strptime(test_date, \"%m/%Y\")\n",
    "    today = datetime.now()\n",
    "    return (datetime_object - today).days"
   ]
  },
  {
   "cell_type": "code",
   "execution_count": 76,
   "id": "7c8c0aff",
   "metadata": {},
   "outputs": [],
   "source": [
    "def creation_date(bs_data: BeautifulSoup):\n",
    "    data = bs_data.find_all(\n",
    "        \"div\",\n",
    "        {\n",
    "            \"class\": \"d-flex flex-row align-items-center justify-content-center flex-wrap\"\n",
    "        },\n",
    "    )[0]\n",
    "    date_string = data.find_all(\"div\")[0].get_text().replace(\"תאריך יצירה:\", \"\").strip()\n",
    "    return datetime.strptime(date_string, \"%d/%m/%Y\")"
   ]
  },
  {
   "cell_type": "code",
   "execution_count": 77,
   "id": "1a0e9c91",
   "metadata": {},
   "outputs": [],
   "source": [
    "def pop_date(bs_data: BeautifulSoup):\n",
    "    data = bs_data.find_all(\n",
    "        \"div\",\n",
    "        {\n",
    "            \"class\": \"d-flex flex-row align-items-center justify-content-center flex-wrap\"\n",
    "        },\n",
    "    )[0]\n",
    "    date_string = (\n",
    "        data.find_all(\"div\")[1].get_text().replace(\"תאריך הקפצה אחרון:\", \"\").strip()\n",
    "    )\n",
    "    return datetime.strptime(date_string, \"%d/%m/%Y\")\n"
   ]
  },
  {
   "cell_type": "code",
   "execution_count": 78,
   "id": "57643d4c",
   "metadata": {},
   "outputs": [],
   "source": [
    "def get_score(manufactor, model, year):\n",
    "    # Manufactors name from ad.co.il and gov data are not the same so we need to map them\n",
    "    if manufactor == \"וולוו\":\n",
    "        manufactor = \"וולבו\"\n",
    "\n",
    "    url = \"https://data.gov.il/api/3/action/datastore_search\"\n",
    "    data = requests.post(\n",
    "        url,\n",
    "        json={\n",
    "            \"resource_id\": \"5e87a7a1-2f6f-41c1-8aec-7216d52a6cf6\",\n",
    "            \"q\": \"\",\n",
    "            \"filters\": {\n",
    "                \"tozar\": manufactor,\n",
    "                \"kinuy_mishari\": model,\n",
    "                \"shnat_yitzur\": year,\n",
    "            },\n",
    "            \"limit\": 100,\n",
    "            \"offset\": 0,\n",
    "            \"sort\": \"mispar_rechavim_le_pailim asc\",\n",
    "        },\n",
    "    ).json()\n",
    "    if data[\"success\"] is False:\n",
    "        print(\"Error in getting score\")\n",
    "        return 0\n",
    "    return data[\"result\"][\"total\"]"
   ]
  },
  {
   "cell_type": "code",
   "execution_count": 79,
   "id": "e24c67fb",
   "metadata": {},
   "outputs": [],
   "source": [
    "BASE_URL = \"https://www.ad.co.il\"\n",
    "cars_url = \"/car?sp261=13912\"\n",
    "car_links = get_links_and_filter(get_html(BASE_URL + cars_url), \"ad/\")"
   ]
  },
  {
   "cell_type": "code",
   "execution_count": 91,
   "id": "d9ae71c0",
   "metadata": {},
   "outputs": [
    {
     "name": "stdout",
     "output_type": "stream",
     "text": [
      "Error in getting score\n",
      "{'manufactor': 'וולוו', 'year': 2021, 'model': 'XC70', 'hand': 2, 'gear': 'אוטומטית', 'engine_capacity': 2000, 'engine_type': 'בנזין', 'prev_ownership': 'פרטית', 'curr_ownership': 'פרטית', 'area': '', 'city': 'בסמת טבעון', 'price': 160000.0, 'pic_num': 5, 'cre_date': datetime.datetime(2024, 2, 19, 0, 0), 'repub_date': datetime.datetime(2024, 2, 19, 0, 0), 'description': 'למכירה וולו Xc40 \\nשנת 2021 \\nנסע 42000', 'color': 'אפור', 'km': 24000, 'test': 0, 'supply_score': 0}\n",
      "Error in getting score\n",
      "{'manufactor': 'וולוו', 'year': 2015, 'model': 'V40', 'hand': 3, 'gear': 'אוטומטית', 'engine_capacity': 1600, 'engine_type': 'בנזין', 'prev_ownership': 'פרטית', 'curr_ownership': 'פרטית', 'area': 'פתח תקוה והסביבה', 'city': 'פתח תקווה', 'price': 47000.0, 'pic_num': 6, 'cre_date': datetime.datetime(2024, 1, 24, 0, 0), 'repub_date': datetime.datetime(2024, 1, 24, 0, 0), 'description': 'רכב שמור מטופל כהלכה\\r\\nרק 92000 קמ', 'color': 'אפור מטאלי', 'km': 92000, 'test': 59, 'supply_score': 0}\n",
      "Error in getting score\n",
      "{'manufactor': 'וולוו', 'year': 2019, 'model': 'S60', 'hand': 2, 'gear': 'אוטומטית', 'engine_capacity': 2000, 'engine_type': 'היבריד', 'prev_ownership': 'פרטית', 'curr_ownership': 'פרטית', 'area': 'גליל ועמקים', 'city': 'יוקנעם עילית', 'price': 180000.0, 'pic_num': 11, 'cre_date': datetime.datetime(2023, 10, 28, 0, 0), 'repub_date': datetime.datetime(2023, 10, 28, 0, 0), 'description': 'דגם t8 פלאג אין הייבריד . חסכונית מאוד 1:20.\\nשמורה מאוד , ללא תאונות בהתחייבות . טסט לשנה .\\nתוספת גלגל ספייר מקורי וולוו וכבל טעינה לעמדות חשמל ציבוריות . הרכב פרטי לחלוטין לא ליסינג או חברה . נהג יחיד מטופל במוסך מרכזי וולוו אחרי טיפול גדול .69 אלף קמ \\nגמישות במחיר ליד הרכב', 'color': 'לבן פנינה', 'km': 69000, 'test': 120, 'supply_score': 0}\n",
      "Error in getting score\n",
      "{'manufactor': 'וולוו', 'year': 2013, 'model': 'S80', 'hand': 2, 'gear': 'אוטומטית', 'engine_capacity': 2000, 'engine_type': 'בנזין', 'prev_ownership': 'פרטית', 'curr_ownership': 'פרטית', 'area': 'בקעת אונו', 'city': 'גני תקווה', 'price': 53000.0, 'pic_num': 7, 'cre_date': datetime.datetime(2023, 5, 29, 0, 0), 'repub_date': datetime.datetime(2023, 6, 4, 0, 0), 'description': 'וולוו (1999) T-5 לקצ\\'רי, 240 כ\"ס, מפוארת, אוטומטית עם טסט לשנה. עלתה על הכביש מאי 2013. יד ראשונה ויד שניה מנכה. המכונית נקיה לחלוטית מתאונות ולהוציא כמה שריטות חסרות חשיבות בפגושים, נראית נהדר. שמורה ומטופלת רק במוסכים מורשי וולוו. נמכרת עקב מעבר דירה וחוסר צורך למכונית שניה במשפחה.', 'color': 'כסוף', 'km': 60650, 'test': 0, 'supply_score': 0}\n",
      "Error in getting score\n",
      "{'manufactor': 'וולוו', 'year': 2014, 'model': 'V40 CC', 'hand': 4, 'gear': 'אוטומטית', 'engine_capacity': 1600, 'engine_type': 'בנזין', 'prev_ownership': 'פרטית', 'curr_ownership': 'פרטית', 'area': 'גדרה יבנה והסביבה', 'city': 'גדרה', 'price': 46000.0, 'pic_num': 6, 'cre_date': datetime.datetime(2023, 5, 28, 0, 0), 'repub_date': datetime.datetime(2023, 5, 28, 0, 0), 'description': 'מוכר את הרכב עקב קבלה של רכב חברה \\nמדובר ב וולוו v40 cross country\\n #שנת 2014 מנוע 1.6 טורבו 180 כ\"ס \\n#הרכב עם 105,000 קילומטר \\n#האוטו אחרי ישור קן רציני הכולל טיימינג, משאבת מים, צלחות רפידות קדימה אחורה ,שמנים פילטרים פלאגים ונאבה קידמית ימנית ויש קבלות על הכול ! \\n#על האוטו יש גנט 18 שנקנה ליפני 3 חודשים וסט צמיגים של Continental Premium Contact 7 \\nשבקושי נסעו יש אפשרות לקנות את האוטו אם גנט 16 המקורי במחיר נמוך יותר. האוטו מהנה חסכוני ואמין . מבקש על הרכב 46,000 \\n 054-5560220- מתן', 'color': 'לבן מטאלי', 'km': 105000, 'test': 0, 'supply_score': 0}\n",
      "Error in getting score\n",
      "{'manufactor': 'וולוו', 'year': 2013, 'model': 'S60', 'hand': 4, 'gear': 'אוטומטית', 'engine_capacity': 1600, 'engine_type': 'בנזין', 'prev_ownership': 'פרטית', 'curr_ownership': 'פרטית', 'area': 'רמלה - לוד', 'city': 'לוד', 'price': 33000.0, 'pic_num': 5, 'cre_date': datetime.datetime(2023, 4, 2, 0, 0), 'repub_date': datetime.datetime(2023, 4, 6, 0, 0), 'description': 'במצב חדש!!', 'color': 'שחור', 'km': 172000, 'test': 0, 'supply_score': 0}\n",
      "Error in getting score\n",
      "{'manufactor': 'וולוו', 'year': 2014, 'model': 'S60', 'hand': 5, 'gear': 'אוטומטית', 'engine_capacity': 2000, 'engine_type': 'בנזין', 'prev_ownership': 'פרטית', 'curr_ownership': 'פרטית', 'area': 'חדרה וישובי עמק חפר', 'city': 'חדרה', 'price': 47000.0, 'pic_num': 4, 'cre_date': datetime.datetime(2021, 10, 18, 0, 0), 'repub_date': datetime.datetime(2023, 3, 14, 0, 0), 'description': 'שמורה', 'color': 'שחור', 'km': 180000, 'test': 0, 'supply_score': 0}\n",
      "Error in getting score\n",
      "{'manufactor': 'וולוו', 'year': 2018, 'model': 'S60', 'hand': 1, 'gear': 'אוטומטית', 'engine_capacity': 2000, 'engine_type': 'בנזין', 'prev_ownership': 'פרטית', 'curr_ownership': 'פרטית', 'area': 'הוד השרון והסביבה', 'city': 'הוד השרון', 'price': 200005.0, 'pic_num': 3, 'cre_date': datetime.datetime(2023, 3, 2, 0, 0), 'repub_date': datetime.datetime(2023, 3, 13, 0, 0), 'description': 'וולוו פולסטאר נדירה \\nבמצב מדהים\\nלמביני עניין', 'color': 'שחור', 'km': 54000, 'test': 0, 'supply_score': 0}\n",
      "Error in getting score\n",
      "{'manufactor': 'וולוו', 'year': 2016, 'model': 'S60', 'hand': 2, 'gear': 'טיפטרוניק', 'engine_capacity': 2000, 'engine_type': 'בנזין', 'prev_ownership': 'פרטית', 'curr_ownership': 'פרטית', 'area': 'מודיעין והסביבה', 'city': 'שוהם', 'price': 60000.0, 'pic_num': 3, 'cre_date': datetime.datetime(2022, 11, 18, 0, 0), 'repub_date': datetime.datetime(2022, 12, 17, 0, 0), 'description': 'Volvo s60 T4 190Hp\\n109Km\\nYad 2\\nשמורה ומטופלת.', 'color': 'שחור', 'km': 110000, 'test': 0, 'supply_score': 0}\n",
      "Error in getting score\n",
      "{'manufactor': 'וולוו', 'year': 2018, 'model': 'S60', 'hand': 1, 'gear': 'טיפטרוניק', 'engine_capacity': 1969, 'engine_type': 'בנזין', 'prev_ownership': '', 'curr_ownership': '', 'area': 'מודיעין והסביבה', 'city': 'מודיעין מכבים רעות', 'price': 100000.0, 'pic_num': 1, 'cre_date': datetime.datetime(2022, 10, 30, 0, 0), 'repub_date': datetime.datetime(2022, 10, 30, 0, 0), 'description': 'וולוו, S60 T5, 245 HP &lt;br/&gt;&lt;br/&gt;פירוט:&lt;br/&gt; ריפודי עור, מערכת התרעה לסטיה מנתיב, מערכת זיהוי תמרורים, מערכת התרעה לעייפות נהג, ניהול אוטומטי של אורות גבוהים, חיישני גשם, מערכת בלימה אוטונומית מבוססת רדאר בהתקרבות לרכב מלפנים, פתיחת דלתות והתנעה ללא מפתח, חיישני לחץ אוויר בגלגלים, מולטימדיה.', 'color': '', 'km': 101400, 'test': 0, 'supply_score': 0}\n",
      "Error in getting score\n",
      "{'manufactor': 'וולוו', 'year': 2008, 'model': 'C30', 'hand': 4, 'gear': 'אוטומטית', 'engine_capacity': 2400, 'engine_type': 'בנזין', 'prev_ownership': '', 'curr_ownership': '', 'area': 'ירושלים והסביבה', 'city': 'ירושלים', 'price': 20000.0, 'pic_num': 1, 'cre_date': datetime.datetime(2022, 10, 20, 0, 0), 'repub_date': datetime.datetime(2022, 10, 20, 0, 0), 'description': 'רכב שמור, נדיר, קילומטרז׳ נמוך, מתוחזק ומטופל היטב. &lt;br/&gt;&lt;br/&gt;פירוט:&lt;br/&gt; Sunroof ,', 'color': '', 'km': 148600, 'test': 0, 'supply_score': 0}\n",
      "Error in getting score\n",
      "{'manufactor': 'וולוו', 'year': 2018, 'model': 'XC70', 'hand': 1, 'gear': 'אוטומטית', 'engine_capacity': 2000, 'engine_type': 'היברידי', 'prev_ownership': '', 'curr_ownership': '', 'area': 'מושבים בשרון', 'city': 'רמות השבים', 'price': 245000.0, 'pic_num': 1, 'cre_date': datetime.datetime(2022, 10, 2, 0, 0), 'repub_date': datetime.datetime(2022, 10, 2, 0, 0), 'description': 'וולוו XC 60, דגם T8, פלאג אין הייבריד. 407 כוחות סוס. שמור ביותר, יד ראשונה. במצב מצויין. טסט עד יולי 2023..', 'color': '', 'km': 118000, 'test': 0, 'supply_score': 0}\n",
      "Error in getting score\n",
      "{'manufactor': 'וולוו', 'year': 2012, 'model': 'C70', 'hand': 3, 'gear': 'אוטומטית', 'engine_capacity': 3200, 'engine_type': 'בנזין', 'prev_ownership': '', 'curr_ownership': '', 'area': '', 'city': 'ערערה בצפון', 'price': 55000.0, 'pic_num': 1, 'cre_date': datetime.datetime(2022, 10, 2, 0, 0), 'repub_date': datetime.datetime(2022, 10, 2, 0, 0), 'description': 'תקין בערך ונוסיע רק צריך מעת טפולים כמו החלפת מערכת המים לכן הורדתי מהמחיר 6000 כדי שכל התקונים יתוקנו ועוד &lt;br/&gt;&lt;br/&gt;פירוט:&lt;br/&gt; גגון נפתח אוטו חזק ויציב', 'color': '', 'km': 500000, 'test': 0, 'supply_score': 0}\n",
      "Error in getting score\n",
      "{'manufactor': 'וולוו', 'year': 2007, 'model': 'S60', 'hand': 2, 'gear': 'אוטומטית', 'engine_capacity': 2000, 'engine_type': 'בנזין', 'prev_ownership': '', 'curr_ownership': '', 'area': 'ראש העין והסביבה', 'city': 'ראש העין', 'price': 19000.0, 'pic_num': 1, 'cre_date': datetime.datetime(2022, 9, 21, 0, 0), 'repub_date': datetime.datetime(2022, 9, 21, 0, 0), 'description': 'רכב שמור מטופל וטסט שנה &lt;br/&gt;&lt;br/&gt;פירוט:&lt;br/&gt; סאן רוף', 'color': '', 'km': 136000, 'test': 0, 'supply_score': 0}\n"
     ]
    },
    {
     "name": "stdout",
     "output_type": "stream",
     "text": [
      "Error in getting score\n",
      "{'manufactor': 'וולוו', 'year': 2005, 'model': 'S80', 'hand': 4, 'gear': 'אוטומטית', 'engine_capacity': 2000, 'engine_type': 'בנזין', 'prev_ownership': '', 'curr_ownership': '', 'area': 'קריות', 'city': 'קרית ביאליק', 'price': 3000.0, 'pic_num': 1, 'cre_date': datetime.datetime(2022, 9, 8, 0, 0), 'repub_date': datetime.datetime(2022, 9, 8, 0, 0), 'description': 'רכב במצב שמור מאד , למכירה בחלקים', 'color': '', 'km': 275000, 'test': 0, 'supply_score': 0}\n",
      "Error in getting score\n",
      "{'manufactor': 'וולוו', 'year': 2008, 'model': 'S60', 'hand': 2, 'gear': 'אוטומטית', 'engine_capacity': 2400, 'engine_type': 'בנזין', 'prev_ownership': '', 'curr_ownership': '', 'area': 'רמת השרון - הרצליה', 'city': 'הרצליה', 'price': 33500.0, 'pic_num': 1, 'cre_date': datetime.datetime(2022, 9, 6, 0, 0), 'repub_date': datetime.datetime(2022, 9, 6, 0, 0), 'description': 'למבינים ,, הרכב נרכש מהתצוגה בוולוו , נסעה סך הכל 133,000 ע\"י אשתי בנהיגה עדינה ,,רכב נקי מתאונות מטופל במוסך שרות וולוו בהרצליה \\r\\nפיתוח מיום רכישתו במצב מכני טוב מאוד ,', 'color': '', 'km': 133000, 'test': 0, 'supply_score': 0}\n",
      "Error in getting score\n",
      "{'manufactor': 'וולוו', 'year': 1991, 'model': '960', 'hand': 1, 'gear': 'אוטומטית', 'engine_capacity': 3000, 'engine_type': 'בנזין', 'prev_ownership': '', 'curr_ownership': '', 'area': 'ירושלים והסביבה', 'city': 'מבשרת ציון', 'price': 0.0, 'pic_num': 1, 'cre_date': datetime.datetime(2022, 8, 1, 0, 0), 'repub_date': datetime.datetime(2022, 8, 1, 0, 0), 'description': 'ולוו 960 רכב יחידי בארץ יבוא אישי שילדה נקייה בל הרכיבים ברכב במצב תקין צמיגים חדשים הרכב מיועד לאספנות &lt;br/&gt;&lt;br/&gt;פירוט:&lt;br/&gt; כל התוספות', 'color': '', 'km': 225000, 'test': 0, 'supply_score': 0}\n",
      "Error in getting score\n",
      "{'manufactor': 'וולוו', 'year': 2002, 'model': 'S60', 'hand': 4, 'gear': 'אוטומטית', 'engine_capacity': 2435, 'engine_type': 'בנזין', 'prev_ownership': '', 'curr_ownership': '', 'area': 'רעננה - כפר סבא', 'city': 'כוכב יאיר', 'price': 2500.0, 'pic_num': 1, 'cre_date': datetime.datetime(2022, 7, 24, 0, 0), 'repub_date': datetime.datetime(2022, 7, 24, 0, 0), 'description': 'No description', 'color': '', 'km': 0, 'test': 0, 'supply_score': 0}\n",
      "Error in getting score\n",
      "{'manufactor': 'וולוו', 'year': 2016, 'model': 'S60', 'hand': 2, 'gear': 'אוטומטית', 'engine_capacity': 2000, 'engine_type': 'בנזין', 'prev_ownership': '', 'curr_ownership': '', 'area': 'פרדס חנה - כרכור', 'city': 'פרדס חנה כרכור', 'price': 79000.0, 'pic_num': 1, 'cre_date': datetime.datetime(2022, 7, 14, 0, 0), 'repub_date': datetime.datetime(2022, 7, 14, 0, 0), 'description': 'רכב שמור,מטופל במוסך ארז חיפה.', 'color': '', 'km': 84000, 'test': 0, 'supply_score': 0}\n",
      "Error in getting score\n",
      "{'manufactor': 'וולוו', 'year': 2013, 'model': 'V40', 'hand': 1, 'gear': 'אוטומטית', 'engine_capacity': 1600, 'engine_type': 'בנזין', 'prev_ownership': '', 'curr_ownership': '', 'area': 'חיפה וחוף הכרמל', 'city': 'חיפה', 'price': 36000.0, 'pic_num': 1, 'cre_date': datetime.datetime(2022, 6, 23, 0, 0), 'repub_date': datetime.datetime(2022, 6, 23, 0, 0), 'description': 'מצב מצויין ללא תאונה נקי יד ראשונה סוף 2013 לפי יצרן וולוו מנוע הv 40 עושה מליון קילומטר', 'color': '', 'km': 197000, 'test': 0, 'supply_score': 0}\n",
      "Error in getting score\n",
      "{'manufactor': 'וולוו', 'year': 2011, 'model': 'S40', 'hand': 5, 'gear': 'אוטומטית', 'engine_capacity': 2500, 'engine_type': 'בנזין', 'prev_ownership': '', 'curr_ownership': '', 'area': 'תל אביב', 'city': 'תל אביב יפו', 'price': 39000.0, 'pic_num': 1, 'cre_date': datetime.datetime(2022, 6, 8, 0, 0), 'repub_date': datetime.datetime(2022, 6, 8, 0, 0), 'description': 'רכב מדהים בוצע בו יישור קו רציני בשנה האחרונה, מצב מושלם, ים כוח, אמינות!', 'color': '', 'km': 190000, 'test': 0, 'supply_score': 0}\n",
      "Error in getting score\n",
      "{'manufactor': 'וולוו', 'year': 2020, 'model': 'S90', 'hand': 1, 'gear': 'אוטומטית', 'engine_capacity': 2000, 'engine_type': 'בנזין', 'prev_ownership': '', 'curr_ownership': '', 'area': 'פרדס חנה - כרכור', 'city': 'פרדס חנה כרכור', 'price': 365000.0, 'pic_num': 1, 'cre_date': datetime.datetime(2022, 6, 6, 0, 0), 'repub_date': datetime.datetime(2022, 6, 6, 0, 0), 'description': 'רכב שמור גמיש במחיר', 'color': '', 'km': 7000, 'test': 0, 'supply_score': 0}\n",
      "Error in getting score\n",
      "{'manufactor': 'וולוו', 'year': 2018, 'model': 'V40', 'hand': 1, 'gear': 'אוטומטית', 'engine_capacity': 1500, 'engine_type': 'בנזין', 'prev_ownership': '', 'curr_ownership': '', 'area': 'תל אביב', 'city': 'תל אביב יפו', 'price': 87000.0, 'pic_num': 1, 'cre_date': datetime.datetime(2022, 5, 26, 0, 0), 'repub_date': datetime.datetime(2022, 5, 26, 0, 0), 'description': 'No description', 'color': '', 'km': 39000, 'test': 0, 'supply_score': 0}\n",
      "Error in getting score\n",
      "{'manufactor': 'וולוו', 'year': 2016, 'model': 'S80', 'hand': 1, 'gear': 'אוטומטית', 'engine_capacity': 2000, 'engine_type': 'בנזין', 'prev_ownership': 'פרטית', 'curr_ownership': 'פרטית', 'area': 'ירושלים והסביבה', 'city': 'ירושלים', 'price': 89000.0, 'pic_num': 4, 'cre_date': datetime.datetime(2022, 5, 26, 0, 0), 'repub_date': datetime.datetime(2022, 5, 26, 0, 0), 'description': 'למכירה רכב פרטי יד ראשונה - וולוו S80\\nשנה 2016 עליה לכביש 24.3.2016\\nT5 \\n245 כ״ס\\n124,000 ק״מ\\nצבע - לבן פנינה\\n4 צמיגים חדשים \\nמחירון 89,000 ₪\\nטסט מרץ 2023\\n052.2631.746', 'color': 'לבן פנינה', 'km': 0, 'test': 0, 'supply_score': 0}\n",
      "Error in getting score\n",
      "{'manufactor': 'וולוו', 'year': 2016, 'model': 'V40', 'hand': 1, 'gear': 'אוטומטית', 'engine_capacity': 2000, 'engine_type': 'בנזין', 'prev_ownership': 'פרטית', 'curr_ownership': 'פרטית', 'area': 'מושבים בשרון', 'city': 'אבן יהודה', 'price': 76000.0, 'pic_num': 6, 'cre_date': datetime.datetime(2022, 4, 10, 0, 0), 'repub_date': datetime.datetime(2022, 5, 21, 0, 0), 'description': '245כ\"ס פרטית T5 שמורה מאוד מטופלת ללא תאונות חונה בחניה מקורה', 'color': 'לבן', 'km': 86000, 'test': 0, 'supply_score': 0}\n",
      "Error in getting score\n",
      "{'manufactor': 'וולוו', 'year': 2008, 'model': 'S60', 'hand': 2, 'gear': 'אוטומטית', 'engine_capacity': 2435, 'engine_type': 'בנזין', 'prev_ownership': '', 'curr_ownership': '', 'area': 'אשדוד - אשקלון', 'city': 'אשדוד', 'price': 15000.0, 'pic_num': 1, 'cre_date': datetime.datetime(2022, 4, 26, 0, 0), 'repub_date': datetime.datetime(2022, 4, 26, 0, 0), 'description': 'רכב יוקרתי של חברת וולו הרכב בבעלות אבא שלי משנת 2010 \\r\\nהרכב כבר לא בשימוש עקב מעבר למונית &lt;br/&gt;&lt;br/&gt;פירוט:&lt;br/&gt; מושבי עור ,מערכת מולטימדיה \\r\\nמצב שמור ביותר', 'color': '', 'km': 220000, 'test': 0, 'supply_score': 0}\n",
      "Error in getting score\n",
      "{'manufactor': 'וולוו', 'year': 2019, 'model': '240', 'hand': 2, 'gear': 'אוטומטית', 'engine_capacity': 1600, 'engine_type': 'היברידי', 'prev_ownership': '', 'curr_ownership': '', 'area': '', 'city': 'אבו סריחאן', 'price': 0.0, 'pic_num': 0, 'cre_date': datetime.datetime(2022, 10, 13, 0, 0), 'repub_date': datetime.datetime(2022, 10, 13, 0, 0), 'description': 'דרושים מיידית! נציגים לחברת תקשורת גדולה במספר סניפים ברחבי הארץ ללא ניסיון קודם! אפשרות לעבודה מהבית, ממוצע שכר 55-60 לשעה, אווירה צעירה ואופציות קידום ???? לפרטים workingnowonline13@gmail.com &lt;br/&gt;&lt;br/&gt;פירוט:&lt;br/&gt; דרושים מיידית! נציגים לחברת תקשורת גדולה במספר סניפים ברחבי הארץ ללא ניסיון קודם! אפשרות לעבודה מהבית, ממוצע שכר 55-60 לשעה, אווירה צעירה ואופציות קידום ???? לפרטים workingnowonline13@gmail.com', 'color': '', 'km': 1450, 'test': 0, 'supply_score': 0}\n",
      "Error in getting score\n",
      "{'manufactor': 'וולוו', 'year': 2018, 'model': 'V40', 'hand': 1, 'gear': 'אוטומטית', 'engine_capacity': 1500, 'engine_type': 'בנזין', 'prev_ownership': '', 'curr_ownership': '', 'area': '', 'city': 'קריית ביאליק', 'price': 95000.0, 'pic_num': 0, 'cre_date': datetime.datetime(2022, 9, 14, 0, 0), 'repub_date': datetime.datetime(2022, 9, 14, 0, 0), 'description': 'VOLVO דגם T3 קינטיק . הרכב שמור ומטופל במוסך מורשה .', 'color': '', 'km': 35000, 'test': 0, 'supply_score': 0}\n",
      "Error in getting score\n",
      "{'manufactor': 'וולוו', 'year': 2013, 'model': 'S60', 'hand': 2, 'gear': 'אוטומטית', 'engine_capacity': 1600, 'engine_type': 'בנזין', 'prev_ownership': '', 'curr_ownership': '', 'area': 'באר שבע והסביבה', 'city': 'באר שבע', 'price': 17000.0, 'pic_num': 0, 'cre_date': datetime.datetime(2022, 8, 22, 0, 0), 'repub_date': datetime.datetime(2022, 8, 22, 0, 0), 'description': 'טסט 11 חודש, 2 צמיגים אחוריים חדשים, מצבר חדש , יש להחליף מנוע', 'color': '', 'km': 308, 'test': 0, 'supply_score': 0}\n"
     ]
    },
    {
     "name": "stdout",
     "output_type": "stream",
     "text": [
      "Error in getting score\n",
      "{'manufactor': 'וולוו', 'year': 2009, 'model': 'S60', 'hand': 2, 'gear': 'אוטומטית', 'engine_capacity': 2435, 'engine_type': 'בנזין', 'prev_ownership': '', 'curr_ownership': '', 'area': 'רמת השרון - הרצליה', 'city': 'רמת השרון', 'price': 21000.0, 'pic_num': 0, 'cre_date': datetime.datetime(2022, 7, 27, 0, 0), 'repub_date': datetime.datetime(2022, 7, 27, 0, 0), 'description': 'רכב מדהים...חיצוני , פנימי ומנוע במצב מצוין !', 'color': '', 'km': 205000, 'test': 0, 'supply_score': 0}\n",
      "Error in getting score\n",
      "{'manufactor': 'וולוו', 'year': 2020, 'model': 'S60', 'hand': 1, 'gear': 'אוטומטית', 'engine_capacity': 1996, 'engine_type': 'בנזין', 'prev_ownership': '', 'curr_ownership': '', 'area': 'רמת השרון - הרצליה', 'city': 'הרצליה', 'price': 215000.0, 'pic_num': 0, 'cre_date': datetime.datetime(2022, 7, 15, 0, 0), 'repub_date': datetime.datetime(2022, 7, 15, 0, 0), 'description': 'כמו חדש ,\\r\\nהכל מעור איבזור מלא', 'color': '', 'km': 17000, 'test': 0, 'supply_score': 0}\n"
     ]
    }
   ],
   "source": [
    "cars_data = []\n",
    "\n",
    "for car_link in car_links:\n",
    "    bs_data = get_html(BASE_URL + car_link)\n",
    "    car_dict = car_dict_template.copy()\n",
    "    car_dict[\"manufactor\"] = get_manufactor(bs_data)\n",
    "    car_dict[\"model\"] = get_model(bs_data)\n",
    "    car_dict[\"price\"] = get_price(bs_data)\n",
    "    car_dict[\"pic_num\"] = get_pic_num(bs_data)\n",
    "    car_dict[\"description\"] = get_description(bs_data)\n",
    "    car_dict[\"cre_date\"] = creation_date(bs_data)\n",
    "    car_dict[\"repub_date\"] = pop_date(bs_data)\n",
    "\n",
    "    table1 = bs_data.find_all(\"table\", {\"class\": \"table table-sm mb-4\"})[0]\n",
    "    items = table1.find_all(\"tr\")\n",
    "    for item_num in range(len(items)):\n",
    "        item_row_bs = items[item_num].find_all(\"td\")\n",
    "        bs_key = item_row_bs[0].get_text().strip()\n",
    "        key, type = map_table(bs_key)\n",
    "\n",
    "        row_val = item_row_bs[1].get_text().strip()\n",
    "        # if type is int remove commas\n",
    "        if type is int:\n",
    "            row_val = row_val.replace(\",\", \"\")\n",
    "\n",
    "        car_dict[key] = type(row_val)\n",
    "    if car_dict.get(\"test_date\"):\n",
    "        car_dict[\"test\"] = get_days_2_test(car_dict[\"test_date\"])\n",
    "    car_dict[\"supply_score\"] = get_score(\n",
    "        car_dict[\"manufactor\"], car_dict[\"model\"], car_dict[\"year\"]\n",
    "    )\n",
    "    del car_dict[\"test_date\"]  # we dont need this field anymore\n",
    "\n",
    "    cars_data.append(car_dict)\n",
    "    print(car_dict)"
   ]
  },
  {
   "cell_type": "code",
   "execution_count": 90,
   "id": "e469df95",
   "metadata": {},
   "outputs": [
    {
     "name": "stdout",
     "output_type": "stream",
     "text": [
      "I/O error\n"
     ]
    }
   ],
   "source": [
    "# export cars_data to csv\n",
    "csv_file = \"cars_data1.csv\"\n",
    "csv_columns = cars_data[0].keys()\n",
    "try:\n",
    "    with open(csv_file, \"w\", newline='') as csvfile:\n",
    "        writer = csv.DictWriter(csvfile, fieldnames=csv_columns)\n",
    "        writer.writeheader()\n",
    "        for data in cars_data:\n",
    "            writer.writerow(data)\n",
    "except IOError:\n",
    "    print(\"I/O error\")"
   ]
  },
  {
   "cell_type": "code",
   "execution_count": null,
   "id": "b806e56a",
   "metadata": {},
   "outputs": [],
   "source": []
  },
  {
   "cell_type": "code",
   "execution_count": null,
   "id": "248f618f",
   "metadata": {},
   "outputs": [],
   "source": []
  },
  {
   "cell_type": "code",
   "execution_count": null,
   "id": "15720f01",
   "metadata": {},
   "outputs": [],
   "source": []
  }
 ],
 "metadata": {
  "kernelspec": {
   "display_name": "Python 3 (ipykernel)",
   "language": "python",
   "name": "python3"
  },
  "language_info": {
   "codemirror_mode": {
    "name": "ipython",
    "version": 3
   },
   "file_extension": ".py",
   "mimetype": "text/x-python",
   "name": "python",
   "nbconvert_exporter": "python",
   "pygments_lexer": "ipython3",
   "version": "3.11.7"
  }
 },
 "nbformat": 4,
 "nbformat_minor": 5
}
